{
 "cells": [
  {
   "cell_type": "code",
   "execution_count": null,
   "id": "9f5a244a",
   "metadata": {
    "vscode": {
     "languageId": "plaintext"
    }
   },
   "outputs": [],
   "source": [
    "import pandas as pd\n",
    "import numpy as np\n",
    "import matplotlib.pyplot as plt\n",
    "import seaborn as sns\n",
    "\n",
    "# Load the data (adjust path and file name if needed)\n",
    "df = pd.read_csv('your_dataset.csv')  # Or load from SQLite\n",
    "df.head()\n"
   ]
  },
  {
   "cell_type": "code",
   "execution_count": null,
   "id": "4aee15c2",
   "metadata": {
    "vscode": {
     "languageId": "plaintext"
    }
   },
   "outputs": [],
   "source": [
    "# Basic info\n",
    "df.info()\n",
    "df.describe()\n",
    "\n",
    "# Check for missing values\n",
    "df.isnull().sum()\n"
   ]
  },
  {
   "cell_type": "markdown",
   "id": "f8d9bb29",
   "metadata": {},
   "source": [
    "This section provides a summary of the dataset including data types, missing values, and basic statistics. Identifying missing data early helps plan preprocessing."
   ]
  },
  {
   "cell_type": "markdown",
   "id": "cf7d7db8",
   "metadata": {},
   "source": [
    "Target Variable Analysis"
   ]
  },
  {
   "cell_type": "code",
   "execution_count": null,
   "id": "48eed639",
   "metadata": {
    "vscode": {
     "languageId": "plaintext"
    }
   },
   "outputs": [],
   "source": [
    "# Count and plot churn vs no churn\n",
    "sns.countplot(x='Target_Churn', data=df)\n",
    "plt.title('Target Variable Distribution')\n",
    "plt.show()\n",
    "\n",
    "# Percentage distribution\n",
    "df['Target_Churn'].value_counts(normalize=True) * 100\n"
   ]
  },
  {
   "cell_type": "code",
   "execution_count": null,
   "id": "e863c3e6",
   "metadata": {
    "vscode": {
     "languageId": "plaintext"
    }
   },
   "outputs": [],
   "source": [
    "# Histograms of numerical features\n",
    "df.hist(figsize=(15, 10), bins=20)\n",
    "plt.suptitle('Distribution of Numeric Features', fontsize=16)\n",
    "plt.show()\n"
   ]
  }
 ],
 "metadata": {
  "language_info": {
   "name": "python"
  }
 },
 "nbformat": 4,
 "nbformat_minor": 5
}
